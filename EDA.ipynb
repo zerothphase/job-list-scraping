{
 "cells": [
  {
   "cell_type": "code",
   "execution_count": 2,
   "metadata": {},
   "outputs": [],
   "source": [
    "import numpy as np\n",
    "import pandas as pd\n",
    "import re\n",
    "import csv\n",
    "from wordcloud import WordCloud, STOPWORDS\n",
    "import matplotlib.pyplot as plt\n",
    "from collections import defaultdict, Counter"
   ]
  },
  {
   "cell_type": "markdown",
   "metadata": {},
   "source": [
    "### Read CSV"
   ]
  },
  {
   "cell_type": "code",
   "execution_count": 3,
   "metadata": {},
   "outputs": [
    {
     "data": {
      "text/html": [
       "<div>\n",
       "<style scoped>\n",
       "    .dataframe tbody tr th:only-of-type {\n",
       "        vertical-align: middle;\n",
       "    }\n",
       "\n",
       "    .dataframe tbody tr th {\n",
       "        vertical-align: top;\n",
       "    }\n",
       "\n",
       "    .dataframe thead th {\n",
       "        text-align: right;\n",
       "    }\n",
       "</style>\n",
       "<table border=\"1\" class=\"dataframe\">\n",
       "  <thead>\n",
       "    <tr style=\"text-align: right;\">\n",
       "      <th></th>\n",
       "      <th>job_title</th>\n",
       "      <th>company</th>\n",
       "      <th>company_size</th>\n",
       "      <th>industry</th>\n",
       "      <th>required_experience</th>\n",
       "      <th>posting_date</th>\n",
       "      <th>closing_date</th>\n",
       "      <th>link</th>\n",
       "      <th>job_description</th>\n",
       "    </tr>\n",
       "  </thead>\n",
       "  <tbody>\n",
       "    <tr>\n",
       "      <th>0</th>\n",
       "      <td>Data Scientist / Analyst ( UP $7K/ JURONG/ PhD...</td>\n",
       "      <td>Search Index Pte Ltd    \\t\\t\\t\\t\\t\\t\\t     \\t\\...</td>\n",
       "      <td>1 - 50 Employees</td>\n",
       "      <td>Human Resources Management/Consulting</td>\n",
       "      <td>Min 2 years (Manager)</td>\n",
       "      <td>04-July-2018</td>\n",
       "      <td>03-August-2018</td>\n",
       "      <td>https://www.jobstreet.com.sg/en/job/data-scien...</td>\n",
       "      <td>UP $7K / MNCÂ Jurong AreaÂ AWS + BONUSÂ PHD / ...</td>\n",
       "    </tr>\n",
       "    <tr>\n",
       "      <th>1</th>\n",
       "      <td>VP/AVP, Data Scientist, Big Data Analytics Gro...</td>\n",
       "      <td>United Overseas Bank Limited (UOB)</td>\n",
       "      <td>More than 5000 Employees</td>\n",
       "      <td>Banking/Financial Services</td>\n",
       "      <td>Min 5 years (Senior Executive)</td>\n",
       "      <td>04-July-2018</td>\n",
       "      <td>03-August-2018</td>\n",
       "      <td>https://www.jobstreet.com.sg/en/job/vpavp-data...</td>\n",
       "      <td>TheÂ Data Management Office (DMO)Â is a busine...</td>\n",
       "    </tr>\n",
       "  </tbody>\n",
       "</table>\n",
       "</div>"
      ],
      "text/plain": [
       "                                           job_title  \\\n",
       "0  Data Scientist / Analyst ( UP $7K/ JURONG/ PhD...   \n",
       "1  VP/AVP, Data Scientist, Big Data Analytics Gro...   \n",
       "\n",
       "                                             company  \\\n",
       "0  Search Index Pte Ltd    \\t\\t\\t\\t\\t\\t\\t     \\t\\...   \n",
       "1                 United Overseas Bank Limited (UOB)   \n",
       "\n",
       "               company_size                               industry  \\\n",
       "0          1 - 50 Employees  Human Resources Management/Consulting   \n",
       "1  More than 5000 Employees             Banking/Financial Services   \n",
       "\n",
       "              required_experience  posting_date    closing_date  \\\n",
       "0           Min 2 years (Manager)  04-July-2018  03-August-2018   \n",
       "1  Min 5 years (Senior Executive)  04-July-2018  03-August-2018   \n",
       "\n",
       "                                                link  \\\n",
       "0  https://www.jobstreet.com.sg/en/job/data-scien...   \n",
       "1  https://www.jobstreet.com.sg/en/job/vpavp-data...   \n",
       "\n",
       "                                     job_description  \n",
       "0  UP $7K / MNCÂ Jurong AreaÂ AWS + BONUSÂ PHD / ...  \n",
       "1  TheÂ Data Management Office (DMO)Â is a busine...  "
      ]
     },
     "execution_count": 3,
     "metadata": {},
     "output_type": "execute_result"
    }
   ],
   "source": [
    "df = pd.read_csv(\"job2.csv\", sep='\\s*;\\s*', engine='python')\n",
    "df.head(2)"
   ]
  },
  {
   "cell_type": "markdown",
   "metadata": {},
   "source": [
    "As we can see in the column \"company\", there are some unwanted \\t. and in the \"job_description\" column, there are some weird characters. The next step is to remove these unwanted whitespaces and characters."
   ]
  },
  {
   "cell_type": "code",
   "execution_count": 4,
   "metadata": {},
   "outputs": [],
   "source": [
    "for column in df.columns:\n",
    "    df[column] = df[column].str.replace(\"\\t\",\"\")"
   ]
  },
  {
   "cell_type": "code",
   "execution_count": 5,
   "metadata": {},
   "outputs": [
    {
     "data": {
      "text/html": [
       "<div>\n",
       "<style scoped>\n",
       "    .dataframe tbody tr th:only-of-type {\n",
       "        vertical-align: middle;\n",
       "    }\n",
       "\n",
       "    .dataframe tbody tr th {\n",
       "        vertical-align: top;\n",
       "    }\n",
       "\n",
       "    .dataframe thead th {\n",
       "        text-align: right;\n",
       "    }\n",
       "</style>\n",
       "<table border=\"1\" class=\"dataframe\">\n",
       "  <thead>\n",
       "    <tr style=\"text-align: right;\">\n",
       "      <th></th>\n",
       "      <th>job_title</th>\n",
       "      <th>company</th>\n",
       "      <th>company_size</th>\n",
       "      <th>industry</th>\n",
       "      <th>required_experience</th>\n",
       "      <th>posting_date</th>\n",
       "      <th>closing_date</th>\n",
       "      <th>link</th>\n",
       "      <th>job_description</th>\n",
       "      <th>cleaned_des</th>\n",
       "    </tr>\n",
       "  </thead>\n",
       "  <tbody>\n",
       "    <tr>\n",
       "      <th>0</th>\n",
       "      <td>Data Scientist / Analyst ( UP $7K/ JURONG/ PhD...</td>\n",
       "      <td>Search Index Pte Ltd         (Recruitment Firm)</td>\n",
       "      <td>1 - 50 Employees</td>\n",
       "      <td>Human Resources Management/Consulting</td>\n",
       "      <td>Min 2 years (Manager)</td>\n",
       "      <td>04-July-2018</td>\n",
       "      <td>03-August-2018</td>\n",
       "      <td>https://www.jobstreet.com.sg/en/job/data-scien...</td>\n",
       "      <td>UP $7K / MNCÂ Jurong AreaÂ AWS + BONUSÂ PHD / ...</td>\n",
       "      <td>UP 7K / MNC Jurong Area AWS BONUS PHD / Master...</td>\n",
       "    </tr>\n",
       "    <tr>\n",
       "      <th>1</th>\n",
       "      <td>VP/AVP, Data Scientist, Big Data Analytics Gro...</td>\n",
       "      <td>United Overseas Bank Limited (UOB)</td>\n",
       "      <td>More than 5000 Employees</td>\n",
       "      <td>Banking/Financial Services</td>\n",
       "      <td>Min 5 years (Senior Executive)</td>\n",
       "      <td>04-July-2018</td>\n",
       "      <td>03-August-2018</td>\n",
       "      <td>https://www.jobstreet.com.sg/en/job/vpavp-data...</td>\n",
       "      <td>TheÂ Data Management Office (DMO)Â is a busine...</td>\n",
       "      <td>The Data Management Office DMO is a business f...</td>\n",
       "    </tr>\n",
       "    <tr>\n",
       "      <th>2</th>\n",
       "      <td>(Master in Com Science/No Exp Ok!) Data Scient...</td>\n",
       "      <td>Achieve Career Consultant Pte Ltd(Recruitment ...</td>\n",
       "      <td>51 - 200 Employees</td>\n",
       "      <td>Human Resources Management/Consulting</td>\n",
       "      <td>Min 2 years (Junior Executive)</td>\n",
       "      <td>03-July-2018</td>\n",
       "      <td>02-August-2018</td>\n",
       "      <td>https://www.jobstreet.com.sg/en/job/master-in-...</td>\n",
       "      <td>S$6,000 to S$8,500 + AWS + Performance BonusGl...</td>\n",
       "      <td>S 6,000 to S 8,500 AWS Performance BonusGlobal...</td>\n",
       "    </tr>\n",
       "    <tr>\n",
       "      <th>3</th>\n",
       "      <td>Data Scientist</td>\n",
       "      <td>Capita Pte Ltd(Recruitment Firm)</td>\n",
       "      <td>51 - 200 Employees</td>\n",
       "      <td>Human Resources Management/Consulting</td>\n",
       "      <td>Min 5 years (Senior Executive)</td>\n",
       "      <td>03-July-2018</td>\n",
       "      <td>02-August-2018</td>\n",
       "      <td>https://www.jobstreet.com.sg/en/job/data-scien...</td>\n",
       "      <td>URGENT! Data ScientistÂ Â Â Job DescriptionThe...</td>\n",
       "      <td>URGENT Data Scientist Job DescriptionThe RoleA...</td>\n",
       "    </tr>\n",
       "    <tr>\n",
       "      <th>4</th>\n",
       "      <td>(Analysis) Data Scientist - (Listed IT MNC/$6K...</td>\n",
       "      <td>Achieve Career Consultant Pte Ltd(Recruitment ...</td>\n",
       "      <td>51 - 200 Employees</td>\n",
       "      <td>Human Resources Management/Consulting</td>\n",
       "      <td>Min 2 years (Junior Executive)</td>\n",
       "      <td>03-July-2018</td>\n",
       "      <td>02-August-2018</td>\n",
       "      <td>https://www.jobstreet.com.sg/en/job/analysis-d...</td>\n",
       "      <td>S$6,000 to S$8,500 + AWS + Performance BonusGl...</td>\n",
       "      <td>S 6,000 to S 8,500 AWS Performance BonusGlobal...</td>\n",
       "    </tr>\n",
       "  </tbody>\n",
       "</table>\n",
       "</div>"
      ],
      "text/plain": [
       "                                           job_title  \\\n",
       "0  Data Scientist / Analyst ( UP $7K/ JURONG/ PhD...   \n",
       "1  VP/AVP, Data Scientist, Big Data Analytics Gro...   \n",
       "2  (Master in Com Science/No Exp Ok!) Data Scient...   \n",
       "3                                     Data Scientist   \n",
       "4  (Analysis) Data Scientist - (Listed IT MNC/$6K...   \n",
       "\n",
       "                                             company  \\\n",
       "0    Search Index Pte Ltd         (Recruitment Firm)   \n",
       "1                 United Overseas Bank Limited (UOB)   \n",
       "2  Achieve Career Consultant Pte Ltd(Recruitment ...   \n",
       "3                   Capita Pte Ltd(Recruitment Firm)   \n",
       "4  Achieve Career Consultant Pte Ltd(Recruitment ...   \n",
       "\n",
       "               company_size                               industry  \\\n",
       "0          1 - 50 Employees  Human Resources Management/Consulting   \n",
       "1  More than 5000 Employees             Banking/Financial Services   \n",
       "2        51 - 200 Employees  Human Resources Management/Consulting   \n",
       "3        51 - 200 Employees  Human Resources Management/Consulting   \n",
       "4        51 - 200 Employees  Human Resources Management/Consulting   \n",
       "\n",
       "              required_experience  posting_date    closing_date  \\\n",
       "0           Min 2 years (Manager)  04-July-2018  03-August-2018   \n",
       "1  Min 5 years (Senior Executive)  04-July-2018  03-August-2018   \n",
       "2  Min 2 years (Junior Executive)  03-July-2018  02-August-2018   \n",
       "3  Min 5 years (Senior Executive)  03-July-2018  02-August-2018   \n",
       "4  Min 2 years (Junior Executive)  03-July-2018  02-August-2018   \n",
       "\n",
       "                                                link  \\\n",
       "0  https://www.jobstreet.com.sg/en/job/data-scien...   \n",
       "1  https://www.jobstreet.com.sg/en/job/vpavp-data...   \n",
       "2  https://www.jobstreet.com.sg/en/job/master-in-...   \n",
       "3  https://www.jobstreet.com.sg/en/job/data-scien...   \n",
       "4  https://www.jobstreet.com.sg/en/job/analysis-d...   \n",
       "\n",
       "                                     job_description  \\\n",
       "0  UP $7K / MNCÂ Jurong AreaÂ AWS + BONUSÂ PHD / ...   \n",
       "1  TheÂ Data Management Office (DMO)Â is a busine...   \n",
       "2  S$6,000 to S$8,500 + AWS + Performance BonusGl...   \n",
       "3  URGENT! Data ScientistÂ Â Â Job DescriptionThe...   \n",
       "4  S$6,000 to S$8,500 + AWS + Performance BonusGl...   \n",
       "\n",
       "                                         cleaned_des  \n",
       "0  UP 7K / MNC Jurong Area AWS BONUS PHD / Master...  \n",
       "1  The Data Management Office DMO is a business f...  \n",
       "2  S 6,000 to S 8,500 AWS Performance BonusGlobal...  \n",
       "3  URGENT Data Scientist Job DescriptionThe RoleA...  \n",
       "4  S 6,000 to S 8,500 AWS Performance BonusGlobal...  "
      ]
     },
     "execution_count": 5,
     "metadata": {},
     "output_type": "execute_result"
    }
   ],
   "source": [
    "df[\"cleaned_des\"] = df.job_description.str.replace('[^ a-zA-Z0-9/*\",.]+', ' ').str.replace(' +', ' ')\n",
    "df.head()"
   ]
  },
  {
   "cell_type": "markdown",
   "metadata": {},
   "source": [
    "I want to analyze the required qualifications in the job descriptions\n",
    "* Find out how many times each of the skills appears in each of the job descriptions\n",
    "* Find out how many job listings require each of the skills (multiple appearances in the same job listing is counted as one)\n",
    "* Required years of experience, check whether the required experience matches the description in the job description.\n",
    "* Levels (entry, junior, senior, manager)\n",
    "\n",
    "It looks like Achieve Career Consultant has a lot of listings, there might be duplicated listings. It could be interesting to explore their listings seperately."
   ]
  },
  {
   "cell_type": "code",
   "execution_count": 123,
   "metadata": {},
   "outputs": [],
   "source": [
    "users_interests = {\"hadoop\", \"big data\", \"java\", \"spark\", \"nosql\", \"mongodb\", \"postgres\", \"python\", \"scikit-learn\", \"numpy\", \"statsmodels\", \"pandas\", \"r\", \"python\", \"statistics\", \"probability\", \"machine learning\", \"c++\", \"neural networks\", \"deep learning\", \"big data\", \"artificial intelligence\", \"mapreduce\", \"databases\", \"mysql\"}\n"
   ]
  },
  {
   "cell_type": "code",
   "execution_count": 126,
   "metadata": {},
   "outputs": [],
   "source": [
    "users_interests.update([\"pytorch\",\"sklearn\",\"seaborn\",\"matlab\",\"sas\",\"aws\",\"azure\", \"matplotlib\",\"sql\", \"database\",\"tensorflow\",\"caffee\"])\n"
   ]
  },
  {
   "cell_type": "code",
   "execution_count": 127,
   "metadata": {},
   "outputs": [
    {
     "data": {
      "text/plain": [
       "{'artificial intelligence',\n",
       " 'aws',\n",
       " 'azure',\n",
       " 'big data',\n",
       " 'c++',\n",
       " 'caffee',\n",
       " 'database',\n",
       " 'databases',\n",
       " 'deep learning',\n",
       " 'hadoop',\n",
       " 'java',\n",
       " 'machine learning',\n",
       " 'mapreduce',\n",
       " 'matlab',\n",
       " 'matplotlib',\n",
       " 'mongodb',\n",
       " 'mysql',\n",
       " 'neural networks',\n",
       " 'nosql',\n",
       " 'numpy',\n",
       " 'pandas',\n",
       " 'postgres',\n",
       " 'probability',\n",
       " 'python',\n",
       " 'pytorch',\n",
       " 'r',\n",
       " 'sas',\n",
       " 'scikit-learn',\n",
       " 'seaborn',\n",
       " 'sklearn',\n",
       " 'spark',\n",
       " 'sql',\n",
       " 'statistics',\n",
       " 'statsmodels',\n",
       " 'tensorflow'}"
      ]
     },
     "execution_count": 127,
     "metadata": {},
     "output_type": "execute_result"
    }
   ],
   "source": [
    "users_interests"
   ]
  },
  {
   "cell_type": "code",
   "execution_count": 128,
   "metadata": {},
   "outputs": [],
   "source": [
    "df[\"des_counter\"] = df[\"cleaned_des\"].str.lower().str.split().apply(Counter)"
   ]
  },
  {
   "cell_type": "code",
   "execution_count": 129,
   "metadata": {},
   "outputs": [],
   "source": [
    "df[\"des_counter\"] = df[\"des_counter\"].apply(lambda x: sorted(x.items(), key=lambda x: (-x[1], x[0])))"
   ]
  },
  {
   "cell_type": "code",
   "execution_count": 130,
   "metadata": {},
   "outputs": [],
   "source": [
    "df[\"keywords\"] = [[] for _ in range(len(df))]\n"
   ]
  },
  {
   "cell_type": "markdown",
   "metadata": {},
   "source": [
    "If a kw appears in the description, add the kw into the keywords column."
   ]
  },
  {
   "cell_type": "code",
   "execution_count": 131,
   "metadata": {},
   "outputs": [],
   "source": [
    "for idx, text in df[\"cleaned_des\"].iteritems():\n",
    "    for item in users_interests:\n",
    "        if item in text.lower():\n",
    "            df[\"keywords\"][idx].append(item)\n"
   ]
  },
  {
   "cell_type": "code",
   "execution_count": 132,
   "metadata": {},
   "outputs": [
    {
     "data": {
      "text/html": [
       "<div>\n",
       "<style scoped>\n",
       "    .dataframe tbody tr th:only-of-type {\n",
       "        vertical-align: middle;\n",
       "    }\n",
       "\n",
       "    .dataframe tbody tr th {\n",
       "        vertical-align: top;\n",
       "    }\n",
       "\n",
       "    .dataframe thead th {\n",
       "        text-align: right;\n",
       "    }\n",
       "</style>\n",
       "<table border=\"1\" class=\"dataframe\">\n",
       "  <thead>\n",
       "    <tr style=\"text-align: right;\">\n",
       "      <th></th>\n",
       "      <th>required_experience</th>\n",
       "      <th>keywords</th>\n",
       "    </tr>\n",
       "  </thead>\n",
       "  <tbody>\n",
       "    <tr>\n",
       "      <th>0</th>\n",
       "      <td>Min 2 years (Manager)</td>\n",
       "      <td>[aws, r]</td>\n",
       "    </tr>\n",
       "    <tr>\n",
       "      <th>1</th>\n",
       "      <td>Min 5 years (Senior Executive)</td>\n",
       "      <td>[big data, spark, hadoop, sql, machine learnin...</td>\n",
       "    </tr>\n",
       "    <tr>\n",
       "      <th>2</th>\n",
       "      <td>Min 2 years (Junior Executive)</td>\n",
       "      <td>[java, big data, spark, aws, mapreduce, hadoop...</td>\n",
       "    </tr>\n",
       "    <tr>\n",
       "      <th>3</th>\n",
       "      <td>Min 5 years (Senior Executive)</td>\n",
       "      <td>[hadoop, python, r]</td>\n",
       "    </tr>\n",
       "    <tr>\n",
       "      <th>4</th>\n",
       "      <td>Min 2 years (Junior Executive)</td>\n",
       "      <td>[java, big data, spark, aws, mapreduce, hadoop...</td>\n",
       "    </tr>\n",
       "  </tbody>\n",
       "</table>\n",
       "</div>"
      ],
      "text/plain": [
       "              required_experience  \\\n",
       "0           Min 2 years (Manager)   \n",
       "1  Min 5 years (Senior Executive)   \n",
       "2  Min 2 years (Junior Executive)   \n",
       "3  Min 5 years (Senior Executive)   \n",
       "4  Min 2 years (Junior Executive)   \n",
       "\n",
       "                                            keywords  \n",
       "0                                           [aws, r]  \n",
       "1  [big data, spark, hadoop, sql, machine learnin...  \n",
       "2  [java, big data, spark, aws, mapreduce, hadoop...  \n",
       "3                                [hadoop, python, r]  \n",
       "4  [java, big data, spark, aws, mapreduce, hadoop...  "
      ]
     },
     "execution_count": 132,
     "metadata": {},
     "output_type": "execute_result"
    }
   ],
   "source": [
    "df[[\"required_experience\", \"keywords\"]].head()"
   ]
  },
  {
   "cell_type": "code",
   "execution_count": 133,
   "metadata": {},
   "outputs": [],
   "source": [
    "kw_list = []\n",
    "for item in df[\"keywords\"]:\n",
    "    kw_list = kw_list + item\n"
   ]
  },
  {
   "cell_type": "code",
   "execution_count": 134,
   "metadata": {},
   "outputs": [],
   "source": [
    "WordCount = Counter(kw_list)"
   ]
  },
  {
   "cell_type": "code",
   "execution_count": 135,
   "metadata": {},
   "outputs": [
    {
     "data": {
      "text/plain": [
       "[('r', 58),\n",
       " ('python', 52),\n",
       " ('machine learning', 49),\n",
       " ('statistics', 40),\n",
       " ('hadoop', 36),\n",
       " ('big data', 34),\n",
       " ('spark', 28),\n",
       " ('sql', 24),\n",
       " ('java', 24),\n",
       " ('deep learning', 23),\n",
       " ('database', 17),\n",
       " ('aws', 12),\n",
       " ('mapreduce', 12),\n",
       " ('databases', 11),\n",
       " ('matlab', 8),\n",
       " ('sas', 7),\n",
       " ('nosql', 7),\n",
       " ('tensorflow', 6),\n",
       " ('artificial intelligence', 4),\n",
       " ('pytorch', 4),\n",
       " ('neural networks', 3),\n",
       " ('postgres', 2),\n",
       " ('matplotlib', 2),\n",
       " ('mysql', 2),\n",
       " ('azure', 1),\n",
       " ('mongodb', 1),\n",
       " ('numpy', 1),\n",
       " ('seaborn', 1),\n",
       " ('pandas', 1),\n",
       " ('sklearn', 1)]"
      ]
     },
     "execution_count": 135,
     "metadata": {},
     "output_type": "execute_result"
    }
   ],
   "source": [
    "WordCount.most_common(200)"
   ]
  },
  {
   "cell_type": "code",
   "execution_count": 96,
   "metadata": {},
   "outputs": [
    {
     "name": "stdout",
     "output_type": "stream",
     "text": [
      "r 58\n",
      "python 52\n",
      "machine learning 49\n",
      "statistics 40\n",
      "hadoop 36\n",
      "big data 34\n",
      "spark 28\n",
      "java 24\n",
      "deep learning 23\n",
      "aws 12\n",
      "mapreduce 12\n",
      "databases 11\n",
      "matlab 8\n",
      "sas 7\n",
      "nosql 7\n",
      "artificial intelligence 4\n",
      "pytorch 4\n",
      "neural networks 3\n",
      "postgres 2\n",
      "matplotlib 2\n",
      "mysql 2\n",
      "azure 1\n",
      "mongodb 1\n",
      "numpy 1\n",
      "seaborn 1\n",
      "pandas 1\n",
      "sklearn 1\n"
     ]
    }
   ],
   "source": [
    "for word, count in WordCount.most_common(200):\n",
    "    print(word, count)"
   ]
  },
  {
   "cell_type": "code",
   "execution_count": null,
   "metadata": {},
   "outputs": [],
   "source": []
  }
 ],
 "metadata": {
  "kernelspec": {
   "display_name": "Python 3",
   "language": "python",
   "name": "python3"
  },
  "language_info": {
   "codemirror_mode": {
    "name": "ipython",
    "version": 3
   },
   "file_extension": ".py",
   "mimetype": "text/x-python",
   "name": "python",
   "nbconvert_exporter": "python",
   "pygments_lexer": "ipython3",
   "version": "3.6.4"
  }
 },
 "nbformat": 4,
 "nbformat_minor": 2
}
