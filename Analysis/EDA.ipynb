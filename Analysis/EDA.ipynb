{
 "cells": [
  {
   "cell_type": "code",
   "execution_count": 1,
   "metadata": {},
   "outputs": [],
   "source": [
    "import numpy as np\n",
    "import pandas as pd\n",
    "import re\n",
    "import csv\n",
    "import matplotlib.pyplot as plt\n",
    "import seaborn as sns\n",
    "from collections import Counter"
   ]
  },
  {
   "cell_type": "code",
   "execution_count": 2,
   "metadata": {},
   "outputs": [],
   "source": [
    "%matplotlib inline"
   ]
  },
  {
   "cell_type": "markdown",
   "metadata": {},
   "source": [
    "# Data Analysis\n",
    "The purpose of this analysis is to find out the most common qualifications/skills required for data scientist. This simple analysis includes:\n",
    "- Data cleaning\n",
    "- Analysis of the most common skills\n",
    "- Number of suitable positions in the dataset for entry/junior level"
   ]
  },
  {
   "cell_type": "markdown",
   "metadata": {},
   "source": [
    "Read csv"
   ]
  },
  {
   "cell_type": "code",
   "execution_count": 3,
   "metadata": {
    "scrolled": true
   },
   "outputs": [],
   "source": [
    "df = pd.read_csv(\"job_29072018.csv\", sep='\\s*;\\s*', engine='python')"
   ]
  },
  {
   "cell_type": "code",
   "execution_count": 4,
   "metadata": {},
   "outputs": [
    {
     "data": {
      "text/html": [
       "<div>\n",
       "<style scoped>\n",
       "    .dataframe tbody tr th:only-of-type {\n",
       "        vertical-align: middle;\n",
       "    }\n",
       "\n",
       "    .dataframe tbody tr th {\n",
       "        vertical-align: top;\n",
       "    }\n",
       "\n",
       "    .dataframe thead th {\n",
       "        text-align: right;\n",
       "    }\n",
       "</style>\n",
       "<table border=\"1\" class=\"dataframe\">\n",
       "  <thead>\n",
       "    <tr style=\"text-align: right;\">\n",
       "      <th></th>\n",
       "      <th>job_title</th>\n",
       "      <th>company</th>\n",
       "      <th>company_size</th>\n",
       "      <th>industry</th>\n",
       "      <th>required_experience</th>\n",
       "      <th>posting_date</th>\n",
       "      <th>closing_date</th>\n",
       "      <th>link</th>\n",
       "      <th>job_description</th>\n",
       "    </tr>\n",
       "  </thead>\n",
       "  <tbody>\n",
       "    <tr>\n",
       "      <th>0</th>\n",
       "      <td>Data Scientist</td>\n",
       "      <td>Singapore Technologies Electronics Limited</td>\n",
       "      <td>501 - 1000 Employees</td>\n",
       "      <td>Electrical &amp; Electronics</td>\n",
       "      <td>Min 2 years (Manager)</td>\n",
       "      <td>23-July-2018</td>\n",
       "      <td>12-August-2018</td>\n",
       "      <td>https://www.jobstreet.com.sg/en/job/data-scien...</td>\n",
       "      <td>Our people equates to our business. ST Enginee...</td>\n",
       "    </tr>\n",
       "    <tr>\n",
       "      <th>1</th>\n",
       "      <td>Data Scientist</td>\n",
       "      <td>Hanalytics Pte Ltd</td>\n",
       "      <td>1 - 50 Employees</td>\n",
       "      <td>Healthcare/Medical</td>\n",
       "      <td>Min 1 year (Entry Level)</td>\n",
       "      <td>29-July-2018</td>\n",
       "      <td>12-August-2018</td>\n",
       "      <td>https://www.jobstreet.com.sg/en/job/data-scien...</td>\n",
       "      <td>Job Category: Machine Learning, Computer Scien...</td>\n",
       "    </tr>\n",
       "    <tr>\n",
       "      <th>2</th>\n",
       "      <td>Data Scientist</td>\n",
       "      <td>IHIS - Integrated Health Information Systems P...</td>\n",
       "      <td>1001 - 2000 Employees</td>\n",
       "      <td>Computer/Information Technology (Software)</td>\n",
       "      <td>Min 5 years (Manager)</td>\n",
       "      <td>23-July-2018</td>\n",
       "      <td>12-August-2018</td>\n",
       "      <td>https://www.jobstreet.com.sg/en/job/data-scien...</td>\n",
       "      <td>Role Summary:Â The Data Scientist analyses dat...</td>\n",
       "    </tr>\n",
       "    <tr>\n",
       "      <th>3</th>\n",
       "      <td>Senior / Data Scientist</td>\n",
       "      <td>Cadmus Resources(Recruitment Firm)</td>\n",
       "      <td>1 - 50 Employees</td>\n",
       "      <td>Human Resources Management/Consulting</td>\n",
       "      <td>Min 4 years (Senior Executive)</td>\n",
       "      <td>28-July-2018</td>\n",
       "      <td>27-August-2018</td>\n",
       "      <td>https://www.jobstreet.com.sg/en/job/senior-dat...</td>\n",
       "      <td>New Start Up Back by Major CorporationJoin the...</td>\n",
       "    </tr>\n",
       "    <tr>\n",
       "      <th>4</th>\n",
       "      <td>Data Scientist</td>\n",
       "      <td>HENKEL SINGAPORE</td>\n",
       "      <td>More than 5000 Employees</td>\n",
       "      <td>Consumer Products/FMCG</td>\n",
       "      <td>Min 5 years (Senior Executive)</td>\n",
       "      <td>28-July-2018</td>\n",
       "      <td>11-August-2018</td>\n",
       "      <td>https://www.jobstreet.com.sg/en/job/data-scien...</td>\n",
       "      <td>What we offerExciting technical / scientific p...</td>\n",
       "    </tr>\n",
       "  </tbody>\n",
       "</table>\n",
       "</div>"
      ],
      "text/plain": [
       "                 job_title                                            company  \\\n",
       "0           Data Scientist         Singapore Technologies Electronics Limited   \n",
       "1           Data Scientist                                 Hanalytics Pte Ltd   \n",
       "2           Data Scientist  IHIS - Integrated Health Information Systems P...   \n",
       "3  Senior / Data Scientist                 Cadmus Resources(Recruitment Firm)   \n",
       "4           Data Scientist                                   HENKEL SINGAPORE   \n",
       "\n",
       "               company_size                                    industry  \\\n",
       "0      501 - 1000 Employees                    Electrical & Electronics   \n",
       "1          1 - 50 Employees                          Healthcare/Medical   \n",
       "2     1001 - 2000 Employees  Computer/Information Technology (Software)   \n",
       "3          1 - 50 Employees       Human Resources Management/Consulting   \n",
       "4  More than 5000 Employees                      Consumer Products/FMCG   \n",
       "\n",
       "              required_experience  posting_date    closing_date  \\\n",
       "0           Min 2 years (Manager)  23-July-2018  12-August-2018   \n",
       "1        Min 1 year (Entry Level)  29-July-2018  12-August-2018   \n",
       "2           Min 5 years (Manager)  23-July-2018  12-August-2018   \n",
       "3  Min 4 years (Senior Executive)  28-July-2018  27-August-2018   \n",
       "4  Min 5 years (Senior Executive)  28-July-2018  11-August-2018   \n",
       "\n",
       "                                                link  \\\n",
       "0  https://www.jobstreet.com.sg/en/job/data-scien...   \n",
       "1  https://www.jobstreet.com.sg/en/job/data-scien...   \n",
       "2  https://www.jobstreet.com.sg/en/job/data-scien...   \n",
       "3  https://www.jobstreet.com.sg/en/job/senior-dat...   \n",
       "4  https://www.jobstreet.com.sg/en/job/data-scien...   \n",
       "\n",
       "                                     job_description  \n",
       "0  Our people equates to our business. ST Enginee...  \n",
       "1  Job Category: Machine Learning, Computer Scien...  \n",
       "2  Role Summary:Â The Data Scientist analyses dat...  \n",
       "3  New Start Up Back by Major CorporationJoin the...  \n",
       "4  What we offerExciting technical / scientific p...  "
      ]
     },
     "execution_count": 4,
     "metadata": {},
     "output_type": "execute_result"
    }
   ],
   "source": [
    "df.head()"
   ]
  },
  {
   "cell_type": "code",
   "execution_count": 6,
   "metadata": {},
   "outputs": [
    {
     "name": "stdout",
     "output_type": "stream",
     "text": [
      "Our people equates to our business. ST Engineering harnesses the full potential of our people by equipping them with work competencies and soft skills to effectively and creatively deliver at the workplace. We offer challenging growth opportunities in wide-ranging integrated engineering fields spanning both defence and commercial businesses.Â Innovation drives our culture. We are theÂ peopleÂ  behindÂ manyÂ ofÂ the technologies andÂ Innovations thatÂ impact your everyday life. We value our people because we understand that innovation is not just about technology, it comes from the hearts and minds that drive it.Â Job DescriptionWork in Strategic Technology Centre to deliver data analytic solution to customers/users. These solutions range from Descriptive, Diagnostic, Predictive, Prescriptive to Machine Learning and AI in developing data models with algorithms for big data analytics.Â Job RequirementsMasterâ€™s Degree or PHD in Science/Engineering/Mathematics with at least 2-3 years of working experience in data analyticsIn-depth technical knowledge in either (1) operational research (2) computer network (3) computer vision (4) fluid dynamics (5) engineering mechanics (6) video or image processing (7) AI and neural network (8) geometry and topology (9) social and cognitive computingGood experience with end-to-end data profiling, mathematical modelling, testing, validation, algorithm, visualization, ideation and solutioningExperience in MySQL, Python, Matlab, Java or CKnowledge of Hadoop and SparkÂ We regret to inform that only shortlisted candidates will be notified.Â\n",
      "\n",
      "Our people equates to our business. ST Engineering harnesses the full potential of our people by equipping them with work competencies and soft skills to effectively and creatively deliver at the workplace. We offer challenging growth opportunities in wide-ranging integrated engineering fields spanning both defence and commercial businesses.Â Innovation drives our culture. We are theÂ peopleÂ  behindÂ manyÂ ofÂ the technologies andÂ Innovations thatÂ impact your everyday life. We value our people because we understand that innovation is not just about technology, it comes from the hearts and minds that drive it.Â Job DescriptionWork in Strategic Technology Centre to deliver data analytic solution to customers/users. These solutions range from Descriptive, Diagnostic, Predictive, Prescriptive to Machine Learning and AI in developing data models with algorithms for big data analytics.Â Job RequirementsMasterâ€™s Degree or PHD in Science/Engineering/Mathematics with at least 2-3 years of working experience in data analyticsIn-depth technical knowledge in either (1) operational research (2) computer network (3) computer vision (4) fluid dynamics (5) engineering mechanics (6) video or image processing (7) AI and neural network (8) geometry and topology (9) social and cognitive computingGood experience with end-to-end data profiling, mathematical modelling, testing, validation, algorithm, visualization, ideation and solutioningExperience in MySQL, Python, Matlab, Java or CKnowledge of Hadoop and SparkÂ We regret to inform that only shortlisted candidates will be notified.Â\n",
      "\n"
     ]
    }
   ],
   "source": [
    "for i in range(2):\n",
    "    print(df[\"job_description\"][0] +\"\\n\") "
   ]
  },
  {
   "cell_type": "markdown",
   "metadata": {},
   "source": [
    "## Data Cleaning\n",
    "As we can see in \"job_description\" above, there are some weird characters. From previous analysis, it was seen that there are some unwanted \\t  in \"company\". Let's remove these unwanted tabs, weird characters as well as the punctuations. Extra spaces are also removed."
   ]
  },
  {
   "cell_type": "code",
   "execution_count": 7,
   "metadata": {},
   "outputs": [],
   "source": [
    "for column in df.columns:\n",
    "    df[column] = df[column].str.replace(\"\\t\",\"\")"
   ]
  },
  {
   "cell_type": "code",
   "execution_count": 8,
   "metadata": {},
   "outputs": [],
   "source": [
    "df[\"cleaned_des\"] = df[\"job_description\"].str.replace('[^ a-zA-Z0-9]+', ' ').str.replace(' +', ' ')"
   ]
  },
  {
   "cell_type": "code",
   "execution_count": 9,
   "metadata": {
    "scrolled": true
   },
   "outputs": [
    {
     "name": "stdout",
     "output_type": "stream",
     "text": [
      "Our people equates to our business ST Engineering harnesses the full potential of our people by equipping them with work competencies and soft skills to effectively and creatively deliver at the workplace We offer challenging growth opportunities in wide ranging integrated engineering fields spanning both defence and commercial businesses Innovation drives our culture We are the people behind many of the technologies and Innovations that impact your everyday life We value our people because we understand that innovation is not just about technology it comes from the hearts and minds that drive it Job DescriptionWork in Strategic Technology Centre to deliver data analytic solution to customers users These solutions range from Descriptive Diagnostic Predictive Prescriptive to Machine Learning and AI in developing data models with algorithms for big data analytics Job RequirementsMaster s Degree or PHD in Science Engineering Mathematics with at least 2 3 years of working experience in data analyticsIn depth technical knowledge in either 1 operational research 2 computer network 3 computer vision 4 fluid dynamics 5 engineering mechanics 6 video or image processing 7 AI and neural network 8 geometry and topology 9 social and cognitive computingGood experience with end to end data profiling mathematical modelling testing validation algorithm visualization ideation and solutioningExperience in MySQL Python Matlab Java or CKnowledge of Hadoop and Spark We regret to inform that only shortlisted candidates will be notified \n",
      "\n",
      "Our people equates to our business ST Engineering harnesses the full potential of our people by equipping them with work competencies and soft skills to effectively and creatively deliver at the workplace We offer challenging growth opportunities in wide ranging integrated engineering fields spanning both defence and commercial businesses Innovation drives our culture We are the people behind many of the technologies and Innovations that impact your everyday life We value our people because we understand that innovation is not just about technology it comes from the hearts and minds that drive it Job DescriptionWork in Strategic Technology Centre to deliver data analytic solution to customers users These solutions range from Descriptive Diagnostic Predictive Prescriptive to Machine Learning and AI in developing data models with algorithms for big data analytics Job RequirementsMaster s Degree or PHD in Science Engineering Mathematics with at least 2 3 years of working experience in data analyticsIn depth technical knowledge in either 1 operational research 2 computer network 3 computer vision 4 fluid dynamics 5 engineering mechanics 6 video or image processing 7 AI and neural network 8 geometry and topology 9 social and cognitive computingGood experience with end to end data profiling mathematical modelling testing validation algorithm visualization ideation and solutioningExperience in MySQL Python Matlab Java or CKnowledge of Hadoop and Spark We regret to inform that only shortlisted candidates will be notified \n",
      "\n"
     ]
    }
   ],
   "source": [
    "for i in range(2):\n",
    "    print(df[\"cleaned_des\"][0] +\"\\n\") "
   ]
  },
  {
   "cell_type": "markdown",
   "metadata": {},
   "source": [
    "## Analysis of the most common skills\n",
    "The cleaned job descriptions look fine now. Now, I want to analyse the the most demanded skills for data scientist by searching for relevant keywords in the job descriptions.\n",
    "\n",
    "\n"
   ]
  },
  {
   "cell_type": "code",
   "execution_count": 10,
   "metadata": {},
   "outputs": [],
   "source": [
    "skills = {\"hadoop\", \"big data\", \"java\", \"spark\", \"nosql\", \"mongodb\", \n",
    "                   \"postgres\", \"python\", \"scikit-learn\", \"numpy\", \"statsmodels\", \n",
    "                   \"pandas\", \" r \", \"python\", \"statistics\", \"probability\", \n",
    "                   \"machine learning\", \"c++\", \"neural networks\", \"deep learning\", \n",
    "                   \"big data\", \"artificial intelligence\", \"mapreduce\", \"mysql\"}\n"
   ]
  },
  {
   "cell_type": "code",
   "execution_count": 11,
   "metadata": {},
   "outputs": [],
   "source": [
    "skills.update([\"pytorch\",\"sklearn\",\"seaborn\",\"matlab\",\"sas\",\"aws\",\"azure\", \n",
    "                        \"matplotlib\",\"sql\", \"database\",\"tensorflow\",\"caffee\",  \n",
    "                        \"pig\", \"hive\", \"natural language processing\", \"computer vision\"])\n"
   ]
  },
  {
   "cell_type": "code",
   "execution_count": 12,
   "metadata": {},
   "outputs": [
    {
     "data": {
      "text/plain": [
       "{' r ',\n",
       " 'artificial intelligence',\n",
       " 'aws',\n",
       " 'azure',\n",
       " 'big data',\n",
       " 'c++',\n",
       " 'caffee',\n",
       " 'computer vision',\n",
       " 'database',\n",
       " 'deep learning',\n",
       " 'hadoop',\n",
       " 'hive',\n",
       " 'java',\n",
       " 'machine learning',\n",
       " 'mapreduce',\n",
       " 'matlab',\n",
       " 'matplotlib',\n",
       " 'mongodb',\n",
       " 'mysql',\n",
       " 'natural language processing',\n",
       " 'neural networks',\n",
       " 'nosql',\n",
       " 'numpy',\n",
       " 'pandas',\n",
       " 'pig',\n",
       " 'postgres',\n",
       " 'probability',\n",
       " 'python',\n",
       " 'pytorch',\n",
       " 'sas',\n",
       " 'scikit-learn',\n",
       " 'seaborn',\n",
       " 'sklearn',\n",
       " 'spark',\n",
       " 'sql',\n",
       " 'statistics',\n",
       " 'statsmodels',\n",
       " 'tensorflow'}"
      ]
     },
     "execution_count": 12,
     "metadata": {},
     "output_type": "execute_result"
    }
   ],
   "source": [
    "skills"
   ]
  },
  {
   "cell_type": "markdown",
   "metadata": {},
   "source": [
    "Create an \"keywords\" column with empty list to store the keywords"
   ]
  },
  {
   "cell_type": "code",
   "execution_count": 13,
   "metadata": {},
   "outputs": [],
   "source": [
    "df[\"keywords\"] = [[] for _ in range(len(df))]"
   ]
  },
  {
   "cell_type": "markdown",
   "metadata": {},
   "source": [
    "If a skill appears in the current description, add the skill into the corresponding keywords column."
   ]
  },
  {
   "cell_type": "code",
   "execution_count": 14,
   "metadata": {},
   "outputs": [],
   "source": [
    "for idx, text in df[\"cleaned_des\"].iteritems():\n",
    "    for item in skills:\n",
    "        if item in text.lower():\n",
    "            df[\"keywords\"][idx].append(item)\n"
   ]
  },
  {
   "cell_type": "code",
   "execution_count": 15,
   "metadata": {},
   "outputs": [
    {
     "data": {
      "text/html": [
       "<div>\n",
       "<style scoped>\n",
       "    .dataframe tbody tr th:only-of-type {\n",
       "        vertical-align: middle;\n",
       "    }\n",
       "\n",
       "    .dataframe tbody tr th {\n",
       "        vertical-align: top;\n",
       "    }\n",
       "\n",
       "    .dataframe thead th {\n",
       "        text-align: right;\n",
       "    }\n",
       "</style>\n",
       "<table border=\"1\" class=\"dataframe\">\n",
       "  <thead>\n",
       "    <tr style=\"text-align: right;\">\n",
       "      <th></th>\n",
       "      <th>required_experience</th>\n",
       "      <th>keywords</th>\n",
       "    </tr>\n",
       "  </thead>\n",
       "  <tbody>\n",
       "    <tr>\n",
       "      <th>0</th>\n",
       "      <td>Min 2 years (Manager)</td>\n",
       "      <td>[machine learning, spark, sql, mysql, matlab, ...</td>\n",
       "    </tr>\n",
       "    <tr>\n",
       "      <th>1</th>\n",
       "      <td>Min 1 year (Entry Level)</td>\n",
       "      <td>[machine learning, seaborn, pandas, numpy, skl...</td>\n",
       "    </tr>\n",
       "    <tr>\n",
       "      <th>2</th>\n",
       "      <td>Min 5 years (Manager)</td>\n",
       "      <td>[ r , machine learning, spark, pig, mapreduce,...</td>\n",
       "    </tr>\n",
       "    <tr>\n",
       "      <th>3</th>\n",
       "      <td>Min 4 years (Senior Executive)</td>\n",
       "      <td>[machine learning, sql, matplotlib, pytorch, h...</td>\n",
       "    </tr>\n",
       "    <tr>\n",
       "      <th>4</th>\n",
       "      <td>Min 5 years (Senior Executive)</td>\n",
       "      <td>[sql, hadoop, azure, java, big data, statistics]</td>\n",
       "    </tr>\n",
       "  </tbody>\n",
       "</table>\n",
       "</div>"
      ],
      "text/plain": [
       "              required_experience  \\\n",
       "0           Min 2 years (Manager)   \n",
       "1        Min 1 year (Entry Level)   \n",
       "2           Min 5 years (Manager)   \n",
       "3  Min 4 years (Senior Executive)   \n",
       "4  Min 5 years (Senior Executive)   \n",
       "\n",
       "                                            keywords  \n",
       "0  [machine learning, spark, sql, mysql, matlab, ...  \n",
       "1  [machine learning, seaborn, pandas, numpy, skl...  \n",
       "2  [ r , machine learning, spark, pig, mapreduce,...  \n",
       "3  [machine learning, sql, matplotlib, pytorch, h...  \n",
       "4   [sql, hadoop, azure, java, big data, statistics]  "
      ]
     },
     "execution_count": 15,
     "metadata": {},
     "output_type": "execute_result"
    }
   ],
   "source": [
    "df[[\"required_experience\", \"keywords\"]].head()"
   ]
  },
  {
   "cell_type": "markdown",
   "metadata": {},
   "source": [
    "Combine all the keywords lists into a single list for counting"
   ]
  },
  {
   "cell_type": "code",
   "execution_count": 16,
   "metadata": {},
   "outputs": [],
   "source": [
    "kw_list = []\n",
    "for item in df[\"keywords\"]:\n",
    "    kw_list = kw_list + item\n"
   ]
  },
  {
   "cell_type": "markdown",
   "metadata": {},
   "source": [
    "Count the keywords and create a horizontal bar plot"
   ]
  },
  {
   "cell_type": "code",
   "execution_count": 17,
   "metadata": {},
   "outputs": [],
   "source": [
    "word_count = Counter(kw_list)"
   ]
  },
  {
   "cell_type": "code",
   "execution_count": 18,
   "metadata": {},
   "outputs": [],
   "source": [
    "plot_data = word_count.most_common(200)"
   ]
  },
  {
   "cell_type": "code",
   "execution_count": 19,
   "metadata": {},
   "outputs": [],
   "source": [
    "kw = []\n",
    "frequency = []\n",
    "for idx, item in enumerate(plot_data):\n",
    "     kw.append(item[0])\n",
    "     frequency.append(item[1])\n"
   ]
  },
  {
   "cell_type": "code",
   "execution_count": 20,
   "metadata": {},
   "outputs": [
    {
     "data": {
      "image/png": "[encoded data removed]",
      "text/plain": [
       "<matplotlib.figure.Figure at 0x214689e8198>"
      ]
     },
     "metadata": {},
     "output_type": "display_data"
    }
   ],
   "source": [
    "f, ax = plt.subplots(figsize=(10,15))\n",
    "sns.barplot(x=frequency, y=kw, color=\"b\")\n",
    "f.savefig('plot.png', bbox_inches='tight')"
   ]
  },
  {
   "cell_type": "markdown",
   "metadata": {},
   "source": [
    "Note: It is assumed that if the skills appear in the job description, then the skills are required, desired and/or part of the responsibilities/tasks.\n",
    "\n",
    "From the plot above, it suggests that:\n",
    "* machine learning knownledge is required or desired in almost all of the positions\n",
    "* Python is the most popular language, while R is also highly demanded. Most positions require at least one of the two languages\n",
    "* SQL/database knowledge is also important, which is required or desired by more than half of the job posting\n",
    "* Big data technologies like Hadoop, Spark are also highly demanded, probably due to the need of dealing of large scale data.\n",
    "\n"
   ]
  },
  {
   "cell_type": "markdown",
   "metadata": {},
   "source": [
    "## Number of suitable positions\n",
    "For fresh graduate without much experience, I think entry level and junior positions which require less than 2 years of experience would be suitable to apply."
   ]
  },
  {
   "cell_type": "code",
   "execution_count": 21,
   "metadata": {},
   "outputs": [
    {
     "data": {
      "text/plain": [
       "Counter({'Entry Level': 4,\n",
       "         'Junior Executive': 6,\n",
       "         'Min 1 year (Entry Level)': 3,\n",
       "         'Min 1 year (Junior Executive)': 2,\n",
       "         'Min 1 year (Non-Executive)': 1,\n",
       "         'Min 2 years (Junior Executive)': 7,\n",
       "         'Min 2 years (Manager)': 3,\n",
       "         'Min 2 years (Non-Executive)': 1,\n",
       "         'Min 2 years (Senior Executive)': 7,\n",
       "         'Min 3 years (Junior Executive)': 1,\n",
       "         'Min 3 years (Manager)': 1,\n",
       "         'Min 3 years (Non-Executive)': 1,\n",
       "         'Min 3 years (Senior Executive)': 6,\n",
       "         'Min 3 years (Senior Manager)': 1,\n",
       "         'Min 4 years (Manager)': 1,\n",
       "         'Min 4 years (Senior Executive)': 1,\n",
       "         'Min 5 years (Manager)': 3,\n",
       "         'Min 5 years (Non-Executive)': 2,\n",
       "         'Min 5 years (Senior Executive)': 12,\n",
       "         'Min 6 years (Senior Executive)': 1,\n",
       "         'Min 8 years (Senior Manager)': 1,\n",
       "         'Senior Manager': 2})"
      ]
     },
     "execution_count": 21,
     "metadata": {},
     "output_type": "execute_result"
    }
   ],
   "source": [
    "exp = Counter(df[\"required_experience\"])\n",
    "exp"
   ]
  },
  {
   "cell_type": "code",
   "execution_count": 22,
   "metadata": {},
   "outputs": [],
   "source": [
    "no_junior_roles = exp[\"Entry Level\"] + exp['Junior Executive'] + exp['Min 1 year (Entry Level)'] + exp['Min 2 years (Junior Executive)'] + exp['Min 1 year (Non-Executive)'] + exp['Min 2 years (Non-Executive)']"
   ]
  },
  {
   "cell_type": "code",
   "execution_count": 23,
   "metadata": {},
   "outputs": [
    {
     "name": "stdout",
     "output_type": "stream",
     "text": [
      "There is 22 suitable roles, and that number is 37.93 percent of the total number of listings\n"
     ]
    }
   ],
   "source": [
    "percentage = no_junior_roles/58*100\n",
    "print(\"There is {} suitable roles, and that number is {:.2f} percent of the total number of listings\".format(no_junior_roles, percentage))"
   ]
  },
  {
   "cell_type": "code",
   "execution_count": null,
   "metadata": {},
   "outputs": [],
   "source": []
  }
 ],
 "metadata": {
  "kernelspec": {
   "display_name": "Python 3",
   "language": "python",
   "name": "python3"
  },
  "language_info": {
   "codemirror_mode": {
    "name": "ipython",
    "version": 3
   },
   "file_extension": ".py",
   "mimetype": "text/x-python",
   "name": "python",
   "nbconvert_exporter": "python",
   "pygments_lexer": "ipython3",
   "version": "3.6.4"
  }
 },
 "nbformat": 4,
 "nbformat_minor": 2
}
