{
 "cells": [
  {
   "cell_type": "code",
   "execution_count": 4,
   "metadata": {},
   "outputs": [],
   "source": [
    "import bs4"
   ]
  },
  {
   "cell_type": "code",
   "execution_count": 15,
   "metadata": {},
   "outputs": [],
   "source": [
    "from bs4 import BeautifulSoup as soup\n",
    "import requests"
   ]
  },
  {
   "cell_type": "code",
   "execution_count": 124,
   "metadata": {},
   "outputs": [],
   "source": [
    "myUrl = 'https://www.jobstreet.com.sg/en/job-search/job-vacancy.php?ojs=10&key=\"data+scientist\"'\n",
    "headers = {'User-Agent':'Mozilla/5.0 (Windows NT 10.0; Win64; x64) AppleWebKit/537.36 (KHTML, like Gecko) Chrome/67.0.3396.99 Safari/537.36'}"
   ]
  },
  {
   "cell_type": "code",
   "execution_count": 125,
   "metadata": {},
   "outputs": [],
   "source": [
    "page = requests.get(myUrl, headers=headers)"
   ]
  },
  {
   "cell_type": "code",
   "execution_count": 126,
   "metadata": {},
   "outputs": [],
   "source": [
    "page_soup = soup(page.text, \"html.parser\")"
   ]
  },
  {
   "cell_type": "code",
   "execution_count": 45,
   "metadata": {},
   "outputs": [],
   "source": [
    "with open(\"output1.html\", \"w\") as file:\n",
    "    file.write(page_soup.prettify())"
   ]
  },
  {
   "cell_type": "code",
   "execution_count": 137,
   "metadata": {},
   "outputs": [],
   "source": [
    "container = page_soup.findAll(\"div\",{\"class\":\"panel \"})"
   ]
  },
  {
   "cell_type": "code",
   "execution_count": 142,
   "metadata": {},
   "outputs": [
    {
     "data": {
      "text/plain": [
       "'https://www.jobstreet.com.sg/en/job/1'"
      ]
     },
     "execution_count": 142,
     "metadata": {},
     "output_type": "execute_result"
    }
   ],
   "source": [
    "container = page_soup.findAll(\"div\",{\"class\":\"position-title header-text\"})\n",
    "container[1].a[\"href\"]"
   ]
  },
  {
   "cell_type": "code",
   "execution_count": 139,
   "metadata": {},
   "outputs": [
    {
     "data": {
      "text/plain": [
       "21"
      ]
     },
     "execution_count": 139,
     "metadata": {},
     "output_type": "execute_result"
    }
   ],
   "source": [
    "len(container)"
   ]
  },
  {
   "cell_type": "code",
   "execution_count": 134,
   "metadata": {},
   "outputs": [
    {
     "data": {
      "text/plain": [
       "'https://www.jobstreet.com.sg/en/job/master-in-com-scienceno-exp-ok-data-scientist-top-it-mnc-west85k-6593943?fr=21'"
      ]
     },
     "execution_count": 134,
     "metadata": {},
     "output_type": "execute_result"
    }
   ],
   "source": [
    "con = container[0].div.findAll(\"div\",{\"class\":\"position-title header-text\"})\n",
    "con[0].a[\"href\"]"
   ]
  },
  {
   "cell_type": "code",
   "execution_count": 144,
   "metadata": {},
   "outputs": [
    {
     "data": {
      "text/plain": [
       "['https://www.jobstreet.com.sg/en/job/master-in-com-scienceno-exp-ok-data-scientist-top-it-mnc-west85k-6593943?fr=21',\n",
       " 'https://www.jobstreet.com.sg/en/job/1',\n",
       " 'https://www.jobstreet.com.sg/en/job/data-scientist-6592739?fr=21',\n",
       " 'https://www.jobstreet.com.sg/en/job/analysis-data-scientist-listed-it-mnc6k-to-85k-gd-bonus5-days-west-6592340?fr=21',\n",
       " 'https://www.jobstreet.com.sg/en/job/data-scientist-6566216?fr=21',\n",
       " 'https://www.jobstreet.com.sg/en/job/senior-data-scientist-6531362?fr=21',\n",
       " 'https://www.jobstreet.com.sg/en/job/apac-data-scientist-047522-6584298?fr=21',\n",
       " 'https://www.jobstreet.com.sg/en/job/data-scientist-6506242?fr=21',\n",
       " 'https://www.jobstreet.com.sg/en/job/senior-data-scientist-6587838?fr=21',\n",
       " 'https://www.jobstreet.com.sg/en/job/data-scientist-lead-ibg-digital-institutional-banking-group-180002jp-6563953?fr=21',\n",
       " 'https://www.jobstreet.com.sg/en/job/vpavp-data-scientist-big-data-analytics-group-data-management-office-6563946?fr=21',\n",
       " 'https://www.jobstreet.com.sg/en/job/data-scientist-ibg-digital-institutional-banking-group-180000zi-6563945?fr=21',\n",
       " 'https://www.jobstreet.com.sg/en/job/data-scientist-6554112?fr=21',\n",
       " 'https://www.jobstreet.com.sg/en/job/data-scientist-6586627?fr=21',\n",
       " 'https://www.jobstreet.com.sg/en/job/data-scientist-5-days-semiconductor-mfg-sso-430629-6584336?fr=21',\n",
       " 'https://www.jobstreet.com.sg/en/job/data-scientist-6584777?fr=21',\n",
       " 'https://www.jobstreet.com.sg/en/job/apac-lead-data-scientist-047523-6584271?fr=21',\n",
       " 'https://www.jobstreet.com.sg/en/job/data-scientist-6562673?fr=21',\n",
       " 'https://www.jobstreet.com.sg/en/job/data-scientist-lighthouse-6561457?fr=21',\n",
       " 'https://www.jobstreet.com.sg/en/job/vpavp-data-scientist-big-data-analytics-group-data-management-office-6552598?fr=21',\n",
       " 'https://www.jobstreet.com.sg/en/job/data-scientist-62913-6549498?fr=21']"
      ]
     },
     "execution_count": 144,
     "metadata": {},
     "output_type": "execute_result"
    }
   ],
   "source": [
    "jobLink = []\n",
    "for con in container:\n",
    "    \n",
    "    jobLink.append(con.a[\"href\"])\n",
    "    \n",
    "jobLink"
   ]
  },
  {
   "cell_type": "code",
   "execution_count": null,
   "metadata": {},
   "outputs": [],
   "source": []
  },
  {
   "cell_type": "code",
   "execution_count": null,
   "metadata": {},
   "outputs": [],
   "source": []
  }
 ],
 "metadata": {
  "kernelspec": {
   "display_name": "Python 3",
   "language": "python",
   "name": "python3"
  },
  "language_info": {
   "codemirror_mode": {
    "name": "ipython",
    "version": 3
   },
   "file_extension": ".py",
   "mimetype": "text/x-python",
   "name": "python",
   "nbconvert_exporter": "python",
   "pygments_lexer": "ipython3",
   "version": "3.6.4"
  }
 },
 "nbformat": 4,
 "nbformat_minor": 2
}
